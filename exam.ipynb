{
  "nbformat": 4,
  "nbformat_minor": 0,
  "metadata": {
    "colab": {
      "provenance": [],
      "authorship_tag": "ABX9TyMavk0kLm3pJf9ZjqYeC3Nf",
      "include_colab_link": true
    },
    "kernelspec": {
      "name": "python3",
      "display_name": "Python 3"
    },
    "language_info": {
      "name": "python"
    }
  },
  "cells": [
    {
      "cell_type": "markdown",
      "metadata": {
        "id": "view-in-github",
        "colab_type": "text"
      },
      "source": [
        "<a href=\"https://colab.research.google.com/github/dani118089/assingment/blob/main/exam.ipynb\" target=\"_parent\"><img src=\"https://colab.research.google.com/assets/colab-badge.svg\" alt=\"Open In Colab\"/></a>"
      ]
    },
    {
      "cell_type": "code",
      "source": [
        "import pandas as pd\n",
        "import numpy as np\n",
        "import matplotlib.pyplot as plt"
      ],
      "metadata": {
        "id": "a8dbsCztEbaP"
      },
      "execution_count": 86,
      "outputs": []
    },
    {
      "cell_type": "code",
      "execution_count": 87,
      "metadata": {
        "colab": {
          "base_uri": "https://localhost:8080/"
        },
        "id": "OeXKKUKuDE9B",
        "outputId": "d62549a3-45c7-4f87-e035-67de49c3235f"
      },
      "outputs": [
        {
          "output_type": "stream",
          "name": "stdout",
          "text": [
            "<class 'pandas.core.frame.DataFrame'>\n",
            "RangeIndex: 139946 entries, 0 to 139945\n",
            "Data columns (total 13 columns):\n",
            " #   Column            Non-Null Count   Dtype  \n",
            "---  ------            --------------   -----  \n",
            " 0   duration_minutes  98561 non-null   object \n",
            " 1   duration_seasons  41387 non-null   object \n",
            " 2   type              139945 non-null  object \n",
            " 3   title             139945 non-null  object \n",
            " 4   date_added        139785 non-null  object \n",
            " 5   release_year      139944 non-null  float64\n",
            " 6   rating            139870 non-null  object \n",
            " 7   description       139943 non-null  object \n",
            " 8   show_id           139942 non-null  float64\n",
            " 9   director          101031 non-null  object \n",
            " 10  country           134152 non-null  object \n",
            " 11  cast              138456 non-null  object \n",
            " 12  listed_in         139942 non-null  object \n",
            "dtypes: float64(2), object(11)\n",
            "memory usage: 13.9+ MB\n"
          ]
        }
      ],
      "source": [
        "#importing the exel xlsx file\n",
        "file=\"partpdf_1758712161434_netflix_titles.xlsx\"\n",
        "df_titles = pd.read_excel(file, sheet_name='netflix_titles')\n",
        "\n",
        "df_netflix_titles_directors=pd.read_excel(file, sheet_name='netflix_titles_directors')\n",
        "df_netflix_titles_countries=pd.read_excel(file, sheet_name='netflix_titles_countries')\n",
        "\n",
        "df_netflix_titles_cast=pd.read_excel(file, sheet_name='netflix_titles_cast')\n",
        "\n",
        "df_netflix_titles_category=pd.read_excel(file, sheet_name='netflix_titles_category')\n",
        "\n",
        "\n",
        "# Merge all into a single DataFrame using 'show_id' as the key\n",
        "master_df = df_titles \\\n",
        "    .merge(df_netflix_titles_directors, on='show_id', how='left') \\\n",
        "    .merge(df_netflix_titles_countries, on='show_id', how='left') \\\n",
        "    .merge(df_netflix_titles_cast, on='show_id', how='left') \\\n",
        "    .merge(df_netflix_titles_category, on='show_id', how='left')\n",
        "\n",
        "# Display info of the merged DataFrame\n",
        "master_df.info()\n"
      ]
    },
    {
      "cell_type": "code",
      "source": [
        "master_df.shape"
      ],
      "metadata": {
        "colab": {
          "base_uri": "https://localhost:8080/"
        },
        "id": "l2kTKgJyTVRp",
        "outputId": "2a9edf4c-52d6-4911-8576-54f5d804e4ad"
      },
      "execution_count": 88,
      "outputs": [
        {
          "output_type": "execute_result",
          "data": {
            "text/plain": [
              "(139946, 13)"
            ]
          },
          "metadata": {},
          "execution_count": 88
        }
      ]
    },
    {
      "cell_type": "markdown",
      "source": [
        "**Which type of join did I use\n",
        "\n",
        "I used a **left join** whn merging the main `netflix_titles` DataFrame with each of the other sheets. This ensures that all titles from the main sheet are retained, even if some do not have corresponding entries in the other sheets (e.g., missing cast or ratings info). Using a left join is appropriate because our primary goal is to analyze all Netflix titles, and we do not want to exclude any title just because some metadata is missing in the supporting tables"
      ],
      "metadata": {
        "id": "9l1qzkFyIleF"
      }
    },
    {
      "cell_type": "code",
      "source": [
        "duplicates = master_df.duplicated()\n",
        "print(master_df[duplicates])"
      ],
      "metadata": {
        "colab": {
          "base_uri": "https://localhost:8080/"
        },
        "collapsed": true,
        "id": "mDZRLc5oPpsM",
        "outputId": "7446e5b9-c611-4444-b951-23ca41766d58"
      },
      "execution_count": 89,
      "outputs": [
        {
          "output_type": "stream",
          "name": "stdout",
          "text": [
            "      duration_minutes duration_seasons   type                title  \\\n",
            "16531               93              NaN  Movie  300 Miles to Heaven   \n",
            "16532               93              NaN  Movie  300 Miles to Heaven   \n",
            "16551               93              NaN  Movie  300 Miles to Heaven   \n",
            "16552               93              NaN  Movie  300 Miles to Heaven   \n",
            "16571               93              NaN  Movie  300 Miles to Heaven   \n",
            "16572               93              NaN  Movie  300 Miles to Heaven   \n",
            "56269              113              NaN  Movie      Blood Will Tell   \n",
            "56270              113              NaN  Movie      Blood Will Tell   \n",
            "56271              113              NaN  Movie      Blood Will Tell   \n",
            "56272              113              NaN  Movie      Blood Will Tell   \n",
            "56273              113              NaN  Movie      Blood Will Tell   \n",
            "56274              113              NaN  Movie      Blood Will Tell   \n",
            "56275              113              NaN  Movie      Blood Will Tell   \n",
            "56276              113              NaN  Movie      Blood Will Tell   \n",
            "56277              113              NaN  Movie      Blood Will Tell   \n",
            "56278              113              NaN  Movie      Blood Will Tell   \n",
            "56279              113              NaN  Movie      Blood Will Tell   \n",
            "56280              113              NaN  Movie      Blood Will Tell   \n",
            "56281              113              NaN  Movie      Blood Will Tell   \n",
            "56282              113              NaN  Movie      Blood Will Tell   \n",
            "56283              113              NaN  Movie      Blood Will Tell   \n",
            "56284              113              NaN  Movie      Blood Will Tell   \n",
            "56285              113              NaN  Movie      Blood Will Tell   \n",
            "56286              113              NaN  Movie      Blood Will Tell   \n",
            "56287              113              NaN  Movie      Blood Will Tell   \n",
            "56288              113              NaN  Movie      Blood Will Tell   \n",
            "56289              113              NaN  Movie      Blood Will Tell   \n",
            "56290              113              NaN  Movie      Blood Will Tell   \n",
            "56291              113              NaN  Movie      Blood Will Tell   \n",
            "56292              113              NaN  Movie      Blood Will Tell   \n",
            "56293              113              NaN  Movie      Blood Will Tell   \n",
            "56294              113              NaN  Movie      Blood Will Tell   \n",
            "56295              113              NaN  Movie      Blood Will Tell   \n",
            "56296              113              NaN  Movie      Blood Will Tell   \n",
            "56297              113              NaN  Movie      Blood Will Tell   \n",
            "56298              113              NaN  Movie      Blood Will Tell   \n",
            "56299              113              NaN  Movie      Blood Will Tell   \n",
            "56300              113              NaN  Movie      Blood Will Tell   \n",
            "56301              113              NaN  Movie      Blood Will Tell   \n",
            "56302              113              NaN  Movie      Blood Will Tell   \n",
            "56303              113              NaN  Movie      Blood Will Tell   \n",
            "56304              113              NaN  Movie      Blood Will Tell   \n",
            "56305              113              NaN  Movie      Blood Will Tell   \n",
            "56306              113              NaN  Movie      Blood Will Tell   \n",
            "56307              113              NaN  Movie      Blood Will Tell   \n",
            "56308              113              NaN  Movie      Blood Will Tell   \n",
            "56309              113              NaN  Movie      Blood Will Tell   \n",
            "56310              113              NaN  Movie      Blood Will Tell   \n",
            "56311              113              NaN  Movie      Blood Will Tell   \n",
            "56312              113              NaN  Movie      Blood Will Tell   \n",
            "56313              113              NaN  Movie      Blood Will Tell   \n",
            "56314              113              NaN  Movie      Blood Will Tell   \n",
            "56315              113              NaN  Movie      Blood Will Tell   \n",
            "56316              113              NaN  Movie      Blood Will Tell   \n",
            "\n",
            "                date_added  release_year rating  \\\n",
            "16531  2019-10-01 00:00:00        1989.0  TV-14   \n",
            "16532  2019-10-01 00:00:00        1989.0  TV-14   \n",
            "16551  2019-10-01 00:00:00        1989.0  TV-14   \n",
            "16552  2019-10-01 00:00:00        1989.0  TV-14   \n",
            "16571  2019-10-01 00:00:00        1989.0  TV-14   \n",
            "16572  2019-10-01 00:00:00        1989.0  TV-14   \n",
            "56269  2019-06-21 00:00:00        2019.0  TV-MA   \n",
            "56270  2019-06-21 00:00:00        2019.0  TV-MA   \n",
            "56271  2019-06-21 00:00:00        2019.0  TV-MA   \n",
            "56272  2019-06-21 00:00:00        2019.0  TV-MA   \n",
            "56273  2019-06-21 00:00:00        2019.0  TV-MA   \n",
            "56274  2019-06-21 00:00:00        2019.0  TV-MA   \n",
            "56275  2019-06-21 00:00:00        2019.0  TV-MA   \n",
            "56276  2019-06-21 00:00:00        2019.0  TV-MA   \n",
            "56277  2019-06-21 00:00:00        2019.0  TV-MA   \n",
            "56278  2019-06-21 00:00:00        2019.0  TV-MA   \n",
            "56279  2019-06-21 00:00:00        2019.0  TV-MA   \n",
            "56280  2019-06-21 00:00:00        2019.0  TV-MA   \n",
            "56281  2019-06-21 00:00:00        2019.0  TV-MA   \n",
            "56282  2019-06-21 00:00:00        2019.0  TV-MA   \n",
            "56283  2019-06-21 00:00:00        2019.0  TV-MA   \n",
            "56284  2019-06-21 00:00:00        2019.0  TV-MA   \n",
            "56285  2019-06-21 00:00:00        2019.0  TV-MA   \n",
            "56286  2019-06-21 00:00:00        2019.0  TV-MA   \n",
            "56287  2019-06-21 00:00:00        2019.0  TV-MA   \n",
            "56288  2019-06-21 00:00:00        2019.0  TV-MA   \n",
            "56289  2019-06-21 00:00:00        2019.0  TV-MA   \n",
            "56290  2019-06-21 00:00:00        2019.0  TV-MA   \n",
            "56291  2019-06-21 00:00:00        2019.0  TV-MA   \n",
            "56292  2019-06-21 00:00:00        2019.0  TV-MA   \n",
            "56293  2019-06-21 00:00:00        2019.0  TV-MA   \n",
            "56294  2019-06-21 00:00:00        2019.0  TV-MA   \n",
            "56295  2019-06-21 00:00:00        2019.0  TV-MA   \n",
            "56296  2019-06-21 00:00:00        2019.0  TV-MA   \n",
            "56297  2019-06-21 00:00:00        2019.0  TV-MA   \n",
            "56298  2019-06-21 00:00:00        2019.0  TV-MA   \n",
            "56299  2019-06-21 00:00:00        2019.0  TV-MA   \n",
            "56300  2019-06-21 00:00:00        2019.0  TV-MA   \n",
            "56301  2019-06-21 00:00:00        2019.0  TV-MA   \n",
            "56302  2019-06-21 00:00:00        2019.0  TV-MA   \n",
            "56303  2019-06-21 00:00:00        2019.0  TV-MA   \n",
            "56304  2019-06-21 00:00:00        2019.0  TV-MA   \n",
            "56305  2019-06-21 00:00:00        2019.0  TV-MA   \n",
            "56306  2019-06-21 00:00:00        2019.0  TV-MA   \n",
            "56307  2019-06-21 00:00:00        2019.0  TV-MA   \n",
            "56308  2019-06-21 00:00:00        2019.0  TV-MA   \n",
            "56309  2019-06-21 00:00:00        2019.0  TV-MA   \n",
            "56310  2019-06-21 00:00:00        2019.0  TV-MA   \n",
            "56311  2019-06-21 00:00:00        2019.0  TV-MA   \n",
            "56312  2019-06-21 00:00:00        2019.0  TV-MA   \n",
            "56313  2019-06-21 00:00:00        2019.0  TV-MA   \n",
            "56314  2019-06-21 00:00:00        2019.0  TV-MA   \n",
            "56315  2019-06-21 00:00:00        2019.0  TV-MA   \n",
            "56316  2019-06-21 00:00:00        2019.0  TV-MA   \n",
            "\n",
            "                                             description     show_id  \\\n",
            "16531  Hoping to help their dissident parents, two br...  81168338.0   \n",
            "16532  Hoping to help their dissident parents, two br...  81168338.0   \n",
            "16551  Hoping to help their dissident parents, two br...  81168338.0   \n",
            "16552  Hoping to help their dissident parents, two br...  81168338.0   \n",
            "16571  Hoping to help their dissident parents, two br...  81168338.0   \n",
            "16572  Hoping to help their dissident parents, two br...  81168338.0   \n",
            "56269  Family patriarch Elías begins to unravel after...  81018067.0   \n",
            "56270  Family patriarch Elías begins to unravel after...  81018067.0   \n",
            "56271  Family patriarch Elías begins to unravel after...  81018067.0   \n",
            "56272  Family patriarch Elías begins to unravel after...  81018067.0   \n",
            "56273  Family patriarch Elías begins to unravel after...  81018067.0   \n",
            "56274  Family patriarch Elías begins to unravel after...  81018067.0   \n",
            "56275  Family patriarch Elías begins to unravel after...  81018067.0   \n",
            "56276  Family patriarch Elías begins to unravel after...  81018067.0   \n",
            "56277  Family patriarch Elías begins to unravel after...  81018067.0   \n",
            "56278  Family patriarch Elías begins to unravel after...  81018067.0   \n",
            "56279  Family patriarch Elías begins to unravel after...  81018067.0   \n",
            "56280  Family patriarch Elías begins to unravel after...  81018067.0   \n",
            "56281  Family patriarch Elías begins to unravel after...  81018067.0   \n",
            "56282  Family patriarch Elías begins to unravel after...  81018067.0   \n",
            "56283  Family patriarch Elías begins to unravel after...  81018067.0   \n",
            "56284  Family patriarch Elías begins to unravel after...  81018067.0   \n",
            "56285  Family patriarch Elías begins to unravel after...  81018067.0   \n",
            "56286  Family patriarch Elías begins to unravel after...  81018067.0   \n",
            "56287  Family patriarch Elías begins to unravel after...  81018067.0   \n",
            "56288  Family patriarch Elías begins to unravel after...  81018067.0   \n",
            "56289  Family patriarch Elías begins to unravel after...  81018067.0   \n",
            "56290  Family patriarch Elías begins to unravel after...  81018067.0   \n",
            "56291  Family patriarch Elías begins to unravel after...  81018067.0   \n",
            "56292  Family patriarch Elías begins to unravel after...  81018067.0   \n",
            "56293  Family patriarch Elías begins to unravel after...  81018067.0   \n",
            "56294  Family patriarch Elías begins to unravel after...  81018067.0   \n",
            "56295  Family patriarch Elías begins to unravel after...  81018067.0   \n",
            "56296  Family patriarch Elías begins to unravel after...  81018067.0   \n",
            "56297  Family patriarch Elías begins to unravel after...  81018067.0   \n",
            "56298  Family patriarch Elías begins to unravel after...  81018067.0   \n",
            "56299  Family patriarch Elías begins to unravel after...  81018067.0   \n",
            "56300  Family patriarch Elías begins to unravel after...  81018067.0   \n",
            "56301  Family patriarch Elías begins to unravel after...  81018067.0   \n",
            "56302  Family patriarch Elías begins to unravel after...  81018067.0   \n",
            "56303  Family patriarch Elías begins to unravel after...  81018067.0   \n",
            "56304  Family patriarch Elías begins to unravel after...  81018067.0   \n",
            "56305  Family patriarch Elías begins to unravel after...  81018067.0   \n",
            "56306  Family patriarch Elías begins to unravel after...  81018067.0   \n",
            "56307  Family patriarch Elías begins to unravel after...  81018067.0   \n",
            "56308  Family patriarch Elías begins to unravel after...  81018067.0   \n",
            "56309  Family patriarch Elías begins to unravel after...  81018067.0   \n",
            "56310  Family patriarch Elías begins to unravel after...  81018067.0   \n",
            "56311  Family patriarch Elías begins to unravel after...  81018067.0   \n",
            "56312  Family patriarch Elías begins to unravel after...  81018067.0   \n",
            "56313  Family patriarch Elías begins to unravel after...  81018067.0   \n",
            "56314  Family patriarch Elías begins to unravel after...  81018067.0   \n",
            "56315  Family patriarch Elías begins to unravel after...  81018067.0   \n",
            "56316  Family patriarch Elías begins to unravel after...  81018067.0   \n",
            "\n",
            "             director        country                  cast  \\\n",
            "16531  Maciej Dejczer        Denmark  Adrianna Biedrzyńska   \n",
            "16532  Maciej Dejczer        Denmark  Adrianna Biedrzyńska   \n",
            "16551  Maciej Dejczer         France  Adrianna Biedrzyńska   \n",
            "16552  Maciej Dejczer         France  Adrianna Biedrzyńska   \n",
            "16571  Maciej Dejczer         Poland  Adrianna Biedrzyńska   \n",
            "16572  Maciej Dejczer         Poland  Adrianna Biedrzyńska   \n",
            "56269    Miguel Cohan      Argentina        Oscar Martínez   \n",
            "56270    Miguel Cohan      Argentina        Oscar Martínez   \n",
            "56271    Miguel Cohan      Argentina        Oscar Martínez   \n",
            "56272    Miguel Cohan      Argentina           Luis Gnecco   \n",
            "56273    Miguel Cohan      Argentina           Luis Gnecco   \n",
            "56274    Miguel Cohan      Argentina           Luis Gnecco   \n",
            "56275    Miguel Cohan      Argentina     Emilio Vodanovich   \n",
            "56276    Miguel Cohan      Argentina     Emilio Vodanovich   \n",
            "56277    Miguel Cohan      Argentina     Emilio Vodanovich   \n",
            "56278    Miguel Cohan      Argentina        Malena Sánchez   \n",
            "56279    Miguel Cohan      Argentina        Malena Sánchez   \n",
            "56280    Miguel Cohan      Argentina        Malena Sánchez   \n",
            "56281    Miguel Cohan      Argentina         Dolores Fonzi   \n",
            "56282    Miguel Cohan      Argentina         Dolores Fonzi   \n",
            "56283    Miguel Cohan      Argentina         Dolores Fonzi   \n",
            "56284    Miguel Cohan      Argentina       Diego Velázquez   \n",
            "56285    Miguel Cohan      Argentina       Diego Velázquez   \n",
            "56286    Miguel Cohan      Argentina       Diego Velázquez   \n",
            "56287    Miguel Cohan      Argentina        Paulina Garcia   \n",
            "56288    Miguel Cohan      Argentina        Paulina Garcia   \n",
            "56289    Miguel Cohan      Argentina        Paulina Garcia   \n",
            "56290    Miguel Cohan      Argentina         Norman Briski   \n",
            "56291    Miguel Cohan      Argentina         Norman Briski   \n",
            "56292    Miguel Cohan      Argentina         Norman Briski   \n",
            "56293    Miguel Cohan  United States        Oscar Martínez   \n",
            "56294    Miguel Cohan  United States        Oscar Martínez   \n",
            "56295    Miguel Cohan  United States        Oscar Martínez   \n",
            "56296    Miguel Cohan  United States           Luis Gnecco   \n",
            "56297    Miguel Cohan  United States           Luis Gnecco   \n",
            "56298    Miguel Cohan  United States           Luis Gnecco   \n",
            "56299    Miguel Cohan  United States     Emilio Vodanovich   \n",
            "56300    Miguel Cohan  United States     Emilio Vodanovich   \n",
            "56301    Miguel Cohan  United States     Emilio Vodanovich   \n",
            "56302    Miguel Cohan  United States        Malena Sánchez   \n",
            "56303    Miguel Cohan  United States        Malena Sánchez   \n",
            "56304    Miguel Cohan  United States        Malena Sánchez   \n",
            "56305    Miguel Cohan  United States         Dolores Fonzi   \n",
            "56306    Miguel Cohan  United States         Dolores Fonzi   \n",
            "56307    Miguel Cohan  United States         Dolores Fonzi   \n",
            "56308    Miguel Cohan  United States       Diego Velázquez   \n",
            "56309    Miguel Cohan  United States       Diego Velázquez   \n",
            "56310    Miguel Cohan  United States       Diego Velázquez   \n",
            "56311    Miguel Cohan  United States        Paulina Garcia   \n",
            "56312    Miguel Cohan  United States        Paulina Garcia   \n",
            "56313    Miguel Cohan  United States        Paulina Garcia   \n",
            "56314    Miguel Cohan  United States         Norman Briski   \n",
            "56315    Miguel Cohan  United States         Norman Briski   \n",
            "56316    Miguel Cohan  United States         Norman Briski   \n",
            "\n",
            "                  listed_in  \n",
            "16531                Dramas  \n",
            "16532  International Movies  \n",
            "16551                Dramas  \n",
            "16552  International Movies  \n",
            "16571                Dramas  \n",
            "16572  International Movies  \n",
            "56269                Dramas  \n",
            "56270    Independent Movies  \n",
            "56271  International Movies  \n",
            "56272                Dramas  \n",
            "56273    Independent Movies  \n",
            "56274  International Movies  \n",
            "56275                Dramas  \n",
            "56276    Independent Movies  \n",
            "56277  International Movies  \n",
            "56278                Dramas  \n",
            "56279    Independent Movies  \n",
            "56280  International Movies  \n",
            "56281                Dramas  \n",
            "56282    Independent Movies  \n",
            "56283  International Movies  \n",
            "56284                Dramas  \n",
            "56285    Independent Movies  \n",
            "56286  International Movies  \n",
            "56287                Dramas  \n",
            "56288    Independent Movies  \n",
            "56289  International Movies  \n",
            "56290                Dramas  \n",
            "56291    Independent Movies  \n",
            "56292  International Movies  \n",
            "56293                Dramas  \n",
            "56294    Independent Movies  \n",
            "56295  International Movies  \n",
            "56296                Dramas  \n",
            "56297    Independent Movies  \n",
            "56298  International Movies  \n",
            "56299                Dramas  \n",
            "56300    Independent Movies  \n",
            "56301  International Movies  \n",
            "56302                Dramas  \n",
            "56303    Independent Movies  \n",
            "56304  International Movies  \n",
            "56305                Dramas  \n",
            "56306    Independent Movies  \n",
            "56307  International Movies  \n",
            "56308                Dramas  \n",
            "56309    Independent Movies  \n",
            "56310  International Movies  \n",
            "56311                Dramas  \n",
            "56312    Independent Movies  \n",
            "56313  International Movies  \n",
            "56314                Dramas  \n",
            "56315    Independent Movies  \n",
            "56316  International Movies  \n"
          ]
        }
      ]
    },
    {
      "cell_type": "code",
      "source": [
        "master_df = master_df.drop_duplicates()"
      ],
      "metadata": {
        "id": "j4fWdRmsS6Ak"
      },
      "execution_count": 90,
      "outputs": []
    },
    {
      "cell_type": "code",
      "source": [
        "master_df.shape"
      ],
      "metadata": {
        "colab": {
          "base_uri": "https://localhost:8080/"
        },
        "id": "-JVgNzgjTbOB",
        "outputId": "445556a7-73eb-471e-ca69-47258cc26ea6"
      },
      "execution_count": 91,
      "outputs": [
        {
          "output_type": "execute_result",
          "data": {
            "text/plain": [
              "(139892, 13)"
            ]
          },
          "metadata": {},
          "execution_count": 91
        }
      ]
    },
    {
      "cell_type": "code",
      "source": [
        "master_df.isnull().sum()"
      ],
      "metadata": {
        "colab": {
          "base_uri": "https://localhost:8080/",
          "height": 491
        },
        "id": "HMx_VIc6I_a7",
        "outputId": "49083ee8-41e1-4390-dbbb-6cf6cd859bdb"
      },
      "execution_count": 92,
      "outputs": [
        {
          "output_type": "execute_result",
          "data": {
            "text/plain": [
              "duration_minutes    41385\n",
              "duration_seasons    98505\n",
              "type                    1\n",
              "title                   1\n",
              "date_added            161\n",
              "release_year            2\n",
              "rating                 76\n",
              "description             3\n",
              "show_id                 4\n",
              "director            38915\n",
              "country              5794\n",
              "cast                 1490\n",
              "listed_in               4\n",
              "dtype: int64"
            ],
            "text/html": [
              "<div>\n",
              "<style scoped>\n",
              "    .dataframe tbody tr th:only-of-type {\n",
              "        vertical-align: middle;\n",
              "    }\n",
              "\n",
              "    .dataframe tbody tr th {\n",
              "        vertical-align: top;\n",
              "    }\n",
              "\n",
              "    .dataframe thead th {\n",
              "        text-align: right;\n",
              "    }\n",
              "</style>\n",
              "<table border=\"1\" class=\"dataframe\">\n",
              "  <thead>\n",
              "    <tr style=\"text-align: right;\">\n",
              "      <th></th>\n",
              "      <th>0</th>\n",
              "    </tr>\n",
              "  </thead>\n",
              "  <tbody>\n",
              "    <tr>\n",
              "      <th>duration_minutes</th>\n",
              "      <td>41385</td>\n",
              "    </tr>\n",
              "    <tr>\n",
              "      <th>duration_seasons</th>\n",
              "      <td>98505</td>\n",
              "    </tr>\n",
              "    <tr>\n",
              "      <th>type</th>\n",
              "      <td>1</td>\n",
              "    </tr>\n",
              "    <tr>\n",
              "      <th>title</th>\n",
              "      <td>1</td>\n",
              "    </tr>\n",
              "    <tr>\n",
              "      <th>date_added</th>\n",
              "      <td>161</td>\n",
              "    </tr>\n",
              "    <tr>\n",
              "      <th>release_year</th>\n",
              "      <td>2</td>\n",
              "    </tr>\n",
              "    <tr>\n",
              "      <th>rating</th>\n",
              "      <td>76</td>\n",
              "    </tr>\n",
              "    <tr>\n",
              "      <th>description</th>\n",
              "      <td>3</td>\n",
              "    </tr>\n",
              "    <tr>\n",
              "      <th>show_id</th>\n",
              "      <td>4</td>\n",
              "    </tr>\n",
              "    <tr>\n",
              "      <th>director</th>\n",
              "      <td>38915</td>\n",
              "    </tr>\n",
              "    <tr>\n",
              "      <th>country</th>\n",
              "      <td>5794</td>\n",
              "    </tr>\n",
              "    <tr>\n",
              "      <th>cast</th>\n",
              "      <td>1490</td>\n",
              "    </tr>\n",
              "    <tr>\n",
              "      <th>listed_in</th>\n",
              "      <td>4</td>\n",
              "    </tr>\n",
              "  </tbody>\n",
              "</table>\n",
              "</div><br><label><b>dtype:</b> int64</label>"
            ]
          },
          "metadata": {},
          "execution_count": 92
        }
      ]
    },
    {
      "cell_type": "code",
      "source": [
        "# # Handle missing values:\n",
        "# master_df['date_added'] = pd.to_datetime(master_df['date_added'], errors='coerce')\n",
        "# master_df['director'] = master_df['director'].fillna('Unknown')\n",
        "# master_df['country'] = master_df['country'].fillna('Unknown')\n",
        "\n",
        "# # Extract year_added for trend analysis:\n",
        "# master_df['year_added'] = master_df['date_added'].dt.year\n",
        "\n",
        "# # Optional: Check the results\n",
        "# print(master_df[['date_added', 'director', 'country', 'year_added']].head())\n",
        "\n",
        "# Fill missing values\n",
        "master_df['director'] = master_df['director'].fillna('Unknown')\n",
        "master_df['country'] = master_df['country'].fillna('Unknown')\n",
        "master_df['cast'] = master_df['cast'].fillna('Unknown')\n",
        "master_df['date_added'] = pd.to_datetime(master_df['date_added'], errors='coerce')\n",
        "master_df['rating'] = master_df['rating'].fillna('Unknown')\n",
        "master_df['description'] = master_df['description'].fillna('No Description')\n",
        "master_df['type'] = master_df['type'].fillna('Unknown')\n",
        "master_df['title'] = master_df['title'].fillna('Unknown Title')\n",
        "master_df['release_year'] = master_df['release_year'].fillna(0)\n",
        "master_df['listed_in'] = master_df['listed_in'].fillna('Unknown')"
      ],
      "metadata": {
        "id": "Jt5a-yxCKpUZ"
      },
      "execution_count": 93,
      "outputs": []
    },
    {
      "cell_type": "code",
      "source": [
        "# It's best to drop rows with missing show_id, as it's a unique identifier\n",
        "master_df = master_df.dropna(subset=['show_id'])"
      ],
      "metadata": {
        "id": "2tgGvttjU6v3"
      },
      "execution_count": 94,
      "outputs": []
    },
    {
      "cell_type": "code",
      "source": [
        "# For duration columns: fill with 0 or leave as NaN depending on analysis needs\n",
        "master_df['duration_minutes'] = master_df['duration_minutes'].fillna(0)\n",
        "master_df['duration_seasons'] = master_df['duration_seasons'].fillna(0)"
      ],
      "metadata": {
        "colab": {
          "base_uri": "https://localhost:8080/"
        },
        "id": "xZHD9e0pU7f1",
        "outputId": "3335e307-7feb-4f4a-f867-e8529f1d5a68"
      },
      "execution_count": 95,
      "outputs": [
        {
          "output_type": "stream",
          "name": "stderr",
          "text": [
            "/tmp/ipython-input-446762149.py:2: FutureWarning: Downcasting object dtype arrays on .fillna, .ffill, .bfill is deprecated and will change in a future version. Call result.infer_objects(copy=False) instead. To opt-in to the future behavior, set `pd.set_option('future.no_silent_downcasting', True)`\n",
            "  master_df['duration_minutes'] = master_df['duration_minutes'].fillna(0)\n",
            "/tmp/ipython-input-446762149.py:3: FutureWarning: Downcasting object dtype arrays on .fillna, .ffill, .bfill is deprecated and will change in a future version. Call result.infer_objects(copy=False) instead. To opt-in to the future behavior, set `pd.set_option('future.no_silent_downcasting', True)`\n",
            "  master_df['duration_seasons'] = master_df['duration_seasons'].fillna(0)\n"
          ]
        }
      ]
    },
    {
      "cell_type": "code",
      "source": [
        "# Create year_added column for analysis\n",
        "master_df['year_added'] = master_df['date_added'].dt.year\n",
        "\n",
        "print(master_df[['country', 'date_added', 'year_added']].head())"
      ],
      "metadata": {
        "colab": {
          "base_uri": "https://localhost:8080/"
        },
        "id": "RilQZp87U_h0",
        "outputId": "03ca1a41-dd20-4c22-f37f-2f145ee32984"
      },
      "execution_count": 96,
      "outputs": [
        {
          "output_type": "stream",
          "name": "stdout",
          "text": [
            "         country date_added  year_added\n",
            "0  United States 2019-09-09      2019.0\n",
            "1  United States 2019-09-09      2019.0\n",
            "2  United States 2019-09-09      2019.0\n",
            "3  United States 2019-09-09      2019.0\n",
            "4  United States 2019-09-09      2019.0\n"
          ]
        }
      ]
    },
    {
      "cell_type": "code",
      "source": [
        "master_df.isnull().sum()"
      ],
      "metadata": {
        "colab": {
          "base_uri": "https://localhost:8080/",
          "height": 523
        },
        "id": "MIuUWM9NNRf-",
        "outputId": "8f82fcbc-4c6d-4203-c36a-36df579a7545"
      },
      "execution_count": 97,
      "outputs": [
        {
          "output_type": "execute_result",
          "data": {
            "text/plain": [
              "duration_minutes      0\n",
              "duration_seasons      0\n",
              "type                  0\n",
              "title                 0\n",
              "date_added          159\n",
              "release_year          0\n",
              "rating                0\n",
              "description           0\n",
              "show_id               0\n",
              "director              0\n",
              "country               0\n",
              "cast                  0\n",
              "listed_in             0\n",
              "year_added          159\n",
              "dtype: int64"
            ],
            "text/html": [
              "<div>\n",
              "<style scoped>\n",
              "    .dataframe tbody tr th:only-of-type {\n",
              "        vertical-align: middle;\n",
              "    }\n",
              "\n",
              "    .dataframe tbody tr th {\n",
              "        vertical-align: top;\n",
              "    }\n",
              "\n",
              "    .dataframe thead th {\n",
              "        text-align: right;\n",
              "    }\n",
              "</style>\n",
              "<table border=\"1\" class=\"dataframe\">\n",
              "  <thead>\n",
              "    <tr style=\"text-align: right;\">\n",
              "      <th></th>\n",
              "      <th>0</th>\n",
              "    </tr>\n",
              "  </thead>\n",
              "  <tbody>\n",
              "    <tr>\n",
              "      <th>duration_minutes</th>\n",
              "      <td>0</td>\n",
              "    </tr>\n",
              "    <tr>\n",
              "      <th>duration_seasons</th>\n",
              "      <td>0</td>\n",
              "    </tr>\n",
              "    <tr>\n",
              "      <th>type</th>\n",
              "      <td>0</td>\n",
              "    </tr>\n",
              "    <tr>\n",
              "      <th>title</th>\n",
              "      <td>0</td>\n",
              "    </tr>\n",
              "    <tr>\n",
              "      <th>date_added</th>\n",
              "      <td>159</td>\n",
              "    </tr>\n",
              "    <tr>\n",
              "      <th>release_year</th>\n",
              "      <td>0</td>\n",
              "    </tr>\n",
              "    <tr>\n",
              "      <th>rating</th>\n",
              "      <td>0</td>\n",
              "    </tr>\n",
              "    <tr>\n",
              "      <th>description</th>\n",
              "      <td>0</td>\n",
              "    </tr>\n",
              "    <tr>\n",
              "      <th>show_id</th>\n",
              "      <td>0</td>\n",
              "    </tr>\n",
              "    <tr>\n",
              "      <th>director</th>\n",
              "      <td>0</td>\n",
              "    </tr>\n",
              "    <tr>\n",
              "      <th>country</th>\n",
              "      <td>0</td>\n",
              "    </tr>\n",
              "    <tr>\n",
              "      <th>cast</th>\n",
              "      <td>0</td>\n",
              "    </tr>\n",
              "    <tr>\n",
              "      <th>listed_in</th>\n",
              "      <td>0</td>\n",
              "    </tr>\n",
              "    <tr>\n",
              "      <th>year_added</th>\n",
              "      <td>159</td>\n",
              "    </tr>\n",
              "  </tbody>\n",
              "</table>\n",
              "</div><br><label><b>dtype:</b> int64</label>"
            ]
          },
          "metadata": {},
          "execution_count": 97
        }
      ]
    },
    {
      "cell_type": "markdown",
      "source": [
        "**Strategy for Handling Missing Data**\n",
        "\n",
        "For missing values in the `country` column, I filled them with the `'Unknown'`. This approach preserves all records, ensuring that potentially valuable information in other columns is not lost. Dropping rows for missing country data might unnecessarily reduce the size of the dataset, while using `'Unknown'` allows for easy filtering or exclusion in subsequent analysis if desired and release year i filled with 0"
      ],
      "metadata": {
        "id": "yh2HKjwiVgAu"
      }
    },
    {
      "cell_type": "code",
      "source": [
        "# Split the cast column by comma, then explode\n",
        "master_df['cast'] = master_df['cast'].fillna('Unknown')  # Fill missing values to avoid errors\n",
        "master_df['cast'] = master_df['cast'].str.split(', ')\n",
        "exploded_df = master_df.explode('cast')\n",
        "# extra whitespace\n",
        "exploded_df['cast'] = exploded_df['cast'].str.strip()\n",
        "\n",
        "# Display the first few rows\n",
        "print(exploded_df[['title', 'cast']].head())"
      ],
      "metadata": {
        "colab": {
          "base_uri": "https://localhost:8080/"
        },
        "id": "t_zLkc4ZXNua",
        "outputId": "ff1eadeb-3154-4a48-838b-039f0113e3b6"
      },
      "execution_count": 98,
      "outputs": [
        {
          "output_type": "stream",
          "name": "stdout",
          "text": [
            "                                     title              cast\n",
            "0  Norm of the North: King Sized Adventure     Alan Marriott\n",
            "1  Norm of the North: King Sized Adventure     Alan Marriott\n",
            "2  Norm of the North: King Sized Adventure  Jennifer Cameron\n",
            "3  Norm of the North: King Sized Adventure  Jennifer Cameron\n",
            "4  Norm of the North: King Sized Adventure        Lee Tockar\n"
          ]
        }
      ]
    },
    {
      "cell_type": "markdown",
      "source": [
        "**Business Advantage of Exploding the 'cast' Column**\n",
        "\n",
        "By exploding the `cast` column so that each actor has their own row:\n",
        "\n",
        "- Identify the most frequently appearing actors across all shows.\n",
        "- Analyze collaboration networks (which actors appear together most often).\n",
        "- Filter or group by individual actors for targeted marketing or recommendations.\n"
      ],
      "metadata": {
        "id": "H9oxStBzdgG9"
      }
    },
    {
      "cell_type": "code",
      "source": [
        "# Count the most frequent actors\n",
        "top_actors = exploded_df['cast'].value_counts().head(10)\n",
        "\n",
        "# Plot the bar chart\n",
        "plt.figure(figsize=(10,6))\n",
        "top_actors.plot(kind='bar', color='skyblue')\n",
        "plt.title('Top 10 Most Frequent Actors on Netflix')\n",
        "plt.xlabel('Actor')\n",
        "plt.ylabel('Number of Appearances')\n",
        "plt.xticks(rotation=45, ha='right')\n",
        "plt.tight_layout()\n",
        "plt.show()"
      ],
      "metadata": {
        "colab": {
          "base_uri": "https://localhost:8080/",
          "height": 607
        },
        "id": "N3sv8xRyews3",
        "outputId": "5d69f4de-6968-42a8-cbd3-d52aaaed02cc"
      },
      "execution_count": 99,
      "outputs": [
        {
          "output_type": "display_data",
          "data": {
            "text/plain": [
              "<Figure size 1000x600 with 1 Axes>"
            ],
            "image/png": "[encoded data removed]"
          },
          "metadata": {}
        }
      ]
    },
    {
      "cell_type": "markdown",
      "source": [
        "business insight.\n",
        "\n",
        "The chart reveals a very high number of entries labeled as \"Unknown,\" indicating that a significant portion of the dataset lacks actor information. Among the named actors, Alfred Molina, Liam Neeson, John Krasinski, and others have the highest number of appearances, but their counts are much lower compared to the \"Unknown\" category.\n",
        "\n",
        "The overwhelming presence of \"Unknown\" highlights a data quality issue—many titles are missing cast information, which may limit the effectiveness of actor-based recommendation systems or content analytics. For Netflix, improving metadata completeness could enhance personalization and search features. Additionally, the relatively even distribution among the top named actors suggests that Netflix's catalog features a diverse range of talent, rather than being dominated by a few stars.\n",
        "\n",
        "\n",
        "\n"
      ],
      "metadata": {
        "id": "1CinoocLfixH"
      }
    },
    {
      "cell_type": "code",
      "source": [],
      "metadata": {
        "id": "3R7FJhs7gn6d"
      },
      "execution_count": null,
      "outputs": []
    }
  ]
}