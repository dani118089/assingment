{
  "cells": [
    {
      "cell_type": "markdown",
      "metadata": {
        "id": "zVV_KMSIUG-A"
      },
      "source": [
        "# Answer the following questions using only builtin Python datatypes and functions. Do not use Numpy or Scipy (i.e. No library imports allowed)"
      ]
    },
    {
      "cell_type": "markdown",
      "metadata": {
        "id": "uZnK7VgWV5SI"
      },
      "source": [
        "# Q1. Write a function that return the range (maximum and minimun) of a given list of numbers"
      ]
    },
    {
      "cell_type": "code",
      "execution_count": 6,
      "metadata": {
        "id": "vuAbJQcOWAM7"
      },
      "outputs": [
        {
          "name": "stdout",
          "output_type": "stream",
          "text": [
            "range=  2 55\n"
          ]
        }
      ],
      "source": [
        "def range(a):\n",
        "    minimum=min(a)\n",
        "    maximum=max(a)\n",
        "    return minimum,maximum\n",
        "a=[2,4,3,10,7,55]\n",
        "minimum,maximum=range(a)\n",
        "print(\"range= \" , minimum,maximum)\n"
      ]
    },
    {
      "cell_type": "markdown",
      "metadata": {
        "id": "Y5_v5a8_U1O-"
      },
      "source": [
        "## Q2. Write function that returns mean value of a list of numbers"
      ]
    },
    {
      "cell_type": "code",
      "execution_count": 25,
      "metadata": {},
      "outputs": [
        {
          "name": "stdout",
          "output_type": "stream",
          "text": [
            "4.0\n"
          ]
        }
      ],
      "source": [
        "a=[1,2,3,4,5,6,7]\n",
        "def find_mean():\n",
        "    mean=sum(a)/len(a)\n",
        "    print(mean)\n",
        "\n",
        "\n",
        "find_mean()  "
      ]
    },
    {
      "cell_type": "markdown",
      "metadata": {
        "id": "OpeRxoEoVTIP"
      },
      "source": [
        "# Q3. Write a function that returns the median value of a list of numbers"
      ]
    },
    {
      "cell_type": "code",
      "execution_count": null,
      "metadata": {
        "id": "u1CUy0UOVaQi"
      },
      "outputs": [
        {
          "name": "stdout",
          "output_type": "stream",
          "text": [
            "4\n"
          ]
        }
      ],
      "source": [
        "a=[1,2,3,4,5,6,7]\n",
        "def find_median(a):\n",
        "    a.sort()\n",
        "    n=len(a)\n",
        "    if n%2==0:\n",
        "        median=(a[n//2]+a[n//2-1])/2\n",
        "        print(median)\n",
        "    else:\n",
        "        median=(a[n//2])\n",
        "        print(median)\n",
        "find_median(a)\n",
        "    \n",
        "\n",
        "\n"
      ]
    },
    {
      "cell_type": "markdown",
      "metadata": {
        "id": "2EMOG7AZSqVn"
      },
      "source": [
        "## Q4. Write a function to return the mod of a list of numbers, if no mod exists, it should return None. If more than one mod exist, return the mod values as list"
      ]
    },
    {
      "cell_type": "code",
      "execution_count": null,
      "metadata": {
        "id": "qnMm2dhhSk3-"
      },
      "outputs": [],
      "source": [
        "n=[1,2,3,4,5,6,7,9,10]\n"
      ]
    },
    {
      "cell_type": "markdown",
      "metadata": {
        "id": "LcqWwqtgTCiL"
      },
      "source": [
        "## Q5. Write function to compute a given percentile value (e.g. 90th percentile) of a list of numbers"
      ]
    },
    {
      "cell_type": "code",
      "execution_count": null,
      "metadata": {
        "id": "Sn307h0TTb2b"
      },
      "outputs": [
        {
          "name": "stdout",
          "output_type": "stream",
          "text": [
            "percentail : 10\n"
          ]
        }
      ],
      "source": [
        "n=[1,2,3,4,5,6,]\n",
        "def percentail(n):\n",
        "    a=len(n)\n",
        "    p=(90/100*(a+1))\n",
        "    y=int(p)\n",
        "    frac=p-y\n",
        "    if y+1<p:\n",
        "        m=n[y]+frac*(n[y+1]-n[y])\n",
        "        print(\"percentail :\" ,m)\n",
        "    else:\n",
        "          print(\"percentail :\" ,n[y])\n",
        "  \n",
        "percentail(n)\n"
      ]
    },
    {
      "cell_type": "markdown",
      "metadata": {},
      "source": [
        "# Q6. Write a function that returns the lower bound of a list of numbers"
      ]
    },
    {
      "cell_type": "code",
      "execution_count": 11,
      "metadata": {
        "id": "Y-RKPdKuW5nx"
      },
      "outputs": [
        {
          "name": "stdout",
          "output_type": "stream",
          "text": [
            "lower bound= -2.5\n"
          ]
        }
      ],
      "source": [
        "\n",
        "def lower():\n",
        "\n",
        "    x= [1,9,4,7]\n",
        "\n",
        "    x.sort()\n",
        "\n",
        "    a=len(x)\n",
        "\n",
        "    q1=(25/100)*(a+1)\n",
        "\n",
        "    q3=(75/100)*(a+1)\n",
        "\n",
        "    IQR=q3-q1\n",
        "\n",
        "    lb=q1-1.5*IQR\n",
        "\n",
        "    print(\"lower bound=\",lb)\n",
        "\n",
        "lower()"
      ]
    },
    {
      "cell_type": "markdown",
      "metadata": {
        "id": "5aHfaI_jThpX"
      },
      "source": [
        "## Q7. Write function to return any outliers from a given list of numbers, if no outliers present it should return None"
      ]
    },
    {
      "cell_type": "code",
      "execution_count": 8,
      "metadata": {
        "id": "gG6-qzT7T0Si"
      },
      "outputs": [
        {
          "name": "stdout",
          "output_type": "stream",
          "text": [
            "None\n"
          ]
        }
      ],
      "source": [
        "def outliers():\n",
        "    x=[1,7,4,9]\n",
        "    x.sort()\n",
        "    a=len(x)\n",
        "    q1=(25/100)*(a+1)\n",
        "    q2=(75/100)*(a+1)\n",
        "    IQR=q2-q1\n",
        "    lb=(q1-1.5*IQR)\n",
        "    ub=(q2+1.5*IQR)\n",
        "    outliers=[]\n",
        "    for i in x:\n",
        "        if i<lb or i>ub:\n",
        "            outliers.append(i)\n",
        "        if outliers:\n",
        "            return outliers\n",
        "        else:\n",
        "            return None\n",
        "outliers()\n",
        "print(outliers())"
      ]
    },
    {
      "cell_type": "markdown",
      "metadata": {
        "id": "jI9t-tcDT5EK"
      },
      "source": [
        "Q8. Write a function to return standard deviation of a list of numbers"
      ]
    },
    {
      "cell_type": "code",
      "execution_count": 14,
      "metadata": {
        "id": "MMU_cMlLUFxJ"
      },
      "outputs": [
        {
          "name": "stdout",
          "output_type": "stream",
          "text": [
            "mean:  30.0\n",
            "variance 250.0\n",
            "standard deviation: 15.811388300841896\n"
          ]
        }
      ],
      "source": [
        "a=[10,20,30,40,50]\n",
        "def find_std():\n",
        "    mean=sum(a)/len(a)\n",
        "    print(\"mean: \",mean)\n",
        "    variance=sum((i-mean)**2 for i in a)/(len(a)-1)\n",
        "    print(\"variance\",variance)\n",
        "    std=variance**0.5\n",
        "    print(\"standard deviation:\",std)\n",
        "find_std()"
      ]
    },
    {
      "cell_type": "markdown",
      "metadata": {
        "id": "LufmQDJPURkM"
      },
      "source": [
        "## Q9. Write function to compute and return Z-score values of a list of numbers"
      ]
    },
    {
      "cell_type": "code",
      "execution_count": null,
      "metadata": {
        "id": "ml2qpSpFUYxV"
      },
      "outputs": [],
      "source": []
    },
    {
      "cell_type": "markdown",
      "metadata": {
        "id": "YQSNHIfxUb6s"
      },
      "source": [
        "## Q10. Write a function to compute and return the Pearson correlation coefficient value of two list of numbers"
      ]
    },
    {
      "cell_type": "code",
      "execution_count": null,
      "metadata": {
        "id": "1YGqr3T6Uk6H"
      },
      "outputs": [],
      "source": []
    }
  ],
  "metadata": {
    "colab": {
      "provenance": []
    },
    "kernelspec": {
      "display_name": "Python 3",
      "language": "python",
      "name": "python3"
    },
    "language_info": {
      "codemirror_mode": {
        "name": "ipython",
        "version": 3
      },
      "file_extension": ".py",
      "mimetype": "text/x-python",
      "name": "python",
      "nbconvert_exporter": "python",
      "pygments_lexer": "ipython3",
      "version": "3.13.5"
    }
  },
  "nbformat": 4,
  "nbformat_minor": 0
}
