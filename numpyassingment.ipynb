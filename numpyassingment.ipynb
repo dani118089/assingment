{
  "nbformat": 4,
  "nbformat_minor": 0,
  "metadata": {
    "colab": {
      "provenance": [],
      "authorship_tag": "ABX9TyPSR4TErN7K3KN3/bGsBa8Z",
      "include_colab_link": true
    },
    "kernelspec": {
      "name": "python3",
      "display_name": "Python 3"
    },
    "language_info": {
      "name": "python"
    }
  },
  "cells": [
    {
      "cell_type": "markdown",
      "metadata": {
        "id": "view-in-github",
        "colab_type": "text"
      },
      "source": [
        "<a href=\"https://colab.research.google.com/github/dani118089/assingment/blob/main/numpyassingment.ipynb\" target=\"_parent\"><img src=\"https://colab.research.google.com/assets/colab-badge.svg\" alt=\"Open In Colab\"/></a>"
      ]
    },
    {
      "cell_type": "markdown",
      "source": [
        "1. Create a NumPy array with values from 10 to 49 (inclusive).\n",
        "● Reshape it into a 4x10 matrix.\n",
        "● Then extract the last column from the reshaped matrix --------------------------------------------------------------------------------------"
      ],
      "metadata": {
        "id": "uLAxvlDRNlKD"
      }
    },
    {
      "cell_type": "code",
      "execution_count": 72,
      "metadata": {
        "colab": {
          "base_uri": "https://localhost:8080/"
        },
        "id": "Gz3rs04PFc0W",
        "outputId": "e780709b-f320-46bd-bec5-b47cb074730f"
      },
      "outputs": [
        {
          "output_type": "execute_result",
          "data": {
            "text/plain": [
              "array([10, 11, 12, 13, 14, 15, 16, 17, 18, 19, 20, 21, 22, 23, 24, 25, 26,\n",
              "       27, 28, 29, 30, 31, 32, 33, 34, 35, 36, 37, 38, 39, 40, 41, 42, 43,\n",
              "       44, 45, 46, 47, 48, 49])"
            ]
          },
          "metadata": {},
          "execution_count": 72
        }
      ],
      "source": [
        "import numpy as np\n",
        "x=np.arange(10,50)\n",
        "x"
      ]
    },
    {
      "cell_type": "code",
      "source": [
        "x=np.reshape(x,(4,10))\n",
        "x"
      ],
      "metadata": {
        "colab": {
          "base_uri": "https://localhost:8080/"
        },
        "id": "fo7HdZISF3Ch",
        "outputId": "4aef6ae1-1c4c-4d42-db04-779562715ffb"
      },
      "execution_count": 73,
      "outputs": [
        {
          "output_type": "execute_result",
          "data": {
            "text/plain": [
              "array([[10, 11, 12, 13, 14, 15, 16, 17, 18, 19],\n",
              "       [20, 21, 22, 23, 24, 25, 26, 27, 28, 29],\n",
              "       [30, 31, 32, 33, 34, 35, 36, 37, 38, 39],\n",
              "       [40, 41, 42, 43, 44, 45, 46, 47, 48, 49]])"
            ]
          },
          "metadata": {},
          "execution_count": 73
        }
      ]
    },
    {
      "cell_type": "code",
      "source": [
        "x[0:,9:]"
      ],
      "metadata": {
        "colab": {
          "base_uri": "https://localhost:8080/"
        },
        "id": "CmNf-M38GP7G",
        "outputId": "8fd5564d-27a8-4eeb-8fdb-feb0dda4984e"
      },
      "execution_count": 74,
      "outputs": [
        {
          "output_type": "execute_result",
          "data": {
            "text/plain": [
              "array([[19],\n",
              "       [29],\n",
              "       [39],\n",
              "       [49]])"
            ]
          },
          "metadata": {},
          "execution_count": 74
        }
      ]
    },
    {
      "cell_type": "markdown",
      "source": [
        "2. Create two 3×3 matrices:\n",
        "One filled with all 5s , One with values from 1 to 9\n",
        "● Add the two matrices\n",
        "● Multiply them element-wise\n",
        "● Then find the transpose of the result -------------------------------------------------------------"
      ],
      "metadata": {
        "id": "M_Dvbr11N1If"
      }
    },
    {
      "cell_type": "code",
      "source": [
        "import numpy as np\n",
        "x=np.arange(1,10).reshape(3,3)\n",
        "x\n"
      ],
      "metadata": {
        "colab": {
          "base_uri": "https://localhost:8080/"
        },
        "id": "yaSquM9iK6k6",
        "outputId": "98ababb1-dc92-4935-9fb9-5cf9aeb63552"
      },
      "execution_count": 75,
      "outputs": [
        {
          "output_type": "execute_result",
          "data": {
            "text/plain": [
              "array([[1, 2, 3],\n",
              "       [4, 5, 6],\n",
              "       [7, 8, 9]])"
            ]
          },
          "metadata": {},
          "execution_count": 75
        }
      ]
    },
    {
      "cell_type": "code",
      "source": [
        "y=np.full((3,3),5)\n",
        "y"
      ],
      "metadata": {
        "colab": {
          "base_uri": "https://localhost:8080/"
        },
        "id": "FNiVHiQCOhxu",
        "outputId": "063f23bc-acc9-4621-ec54-593d344b2d3b"
      },
      "execution_count": 76,
      "outputs": [
        {
          "output_type": "execute_result",
          "data": {
            "text/plain": [
              "array([[5, 5, 5],\n",
              "       [5, 5, 5],\n",
              "       [5, 5, 5]])"
            ]
          },
          "metadata": {},
          "execution_count": 76
        }
      ]
    },
    {
      "cell_type": "code",
      "source": [
        "np.add(x,y)"
      ],
      "metadata": {
        "colab": {
          "base_uri": "https://localhost:8080/"
        },
        "id": "8NDXljHGQMOt",
        "outputId": "f119a2e9-1174-4588-924d-a02eb6285e87"
      },
      "execution_count": 77,
      "outputs": [
        {
          "output_type": "execute_result",
          "data": {
            "text/plain": [
              "array([[ 6,  7,  8],\n",
              "       [ 9, 10, 11],\n",
              "       [12, 13, 14]])"
            ]
          },
          "metadata": {},
          "execution_count": 77
        }
      ]
    },
    {
      "cell_type": "code",
      "source": [
        "a=np.multiply(x,y)\n",
        "a"
      ],
      "metadata": {
        "colab": {
          "base_uri": "https://localhost:8080/"
        },
        "id": "RaG_x2vMQmYJ",
        "outputId": "343e6cf2-0f7f-46a8-8c31-2fdf94710d5b"
      },
      "execution_count": 78,
      "outputs": [
        {
          "output_type": "execute_result",
          "data": {
            "text/plain": [
              "array([[ 5, 10, 15],\n",
              "       [20, 25, 30],\n",
              "       [35, 40, 45]])"
            ]
          },
          "metadata": {},
          "execution_count": 78
        }
      ]
    },
    {
      "cell_type": "code",
      "source": [
        "np.transpose(a)"
      ],
      "metadata": {
        "colab": {
          "base_uri": "https://localhost:8080/"
        },
        "id": "68oSHDPoQu1s",
        "outputId": "1faaaffc-d1d3-4f16-9413-a206d14874aa"
      },
      "execution_count": 79,
      "outputs": [
        {
          "output_type": "execute_result",
          "data": {
            "text/plain": [
              "array([[ 5, 20, 35],\n",
              "       [10, 25, 40],\n",
              "       [15, 30, 45]])"
            ]
          },
          "metadata": {},
          "execution_count": 79
        }
      ]
    },
    {
      "cell_type": "markdown",
      "source": [
        "-------------------------------------------------------------------------------------------------------------------------------\n",
        "3. Create a NumPy array of 15 random integers between 10 and 100.\n",
        "● Replace all values greater than 50 with -1\n",
        "● Count how many values were replaced."
      ],
      "metadata": {
        "id": "ceGCeTi7RSOp"
      }
    },
    {
      "cell_type": "code",
      "source": [
        "import numpy as np\n",
        "rand=np.random.randint(10,101,15)\n",
        "print(rand)\n"
      ],
      "metadata": {
        "colab": {
          "base_uri": "https://localhost:8080/"
        },
        "id": "tineXf7eRatx",
        "outputId": "7b792135-8ab0-41c8-ec42-209c68d821dd"
      },
      "execution_count": 80,
      "outputs": [
        {
          "output_type": "stream",
          "name": "stdout",
          "text": [
            "[43 15 73 13 87 20 92 87 67 58 54 64 67 54 74]\n"
          ]
        }
      ]
    },
    {
      "cell_type": "code",
      "source": [
        "#  Replace all values greater than 50 with -1\n",
        "rand [rand>50]=-1\n",
        "rand"
      ],
      "metadata": {
        "colab": {
          "base_uri": "https://localhost:8080/"
        },
        "id": "ZM69485qbtEL",
        "outputId": "9fe5b13d-cab1-423a-a55c-839865d40b92"
      },
      "execution_count": 81,
      "outputs": [
        {
          "output_type": "execute_result",
          "data": {
            "text/plain": [
              "array([43, 15, -1, 13, -1, 20, -1, -1, -1, -1, -1, -1, -1, -1, -1])"
            ]
          },
          "metadata": {},
          "execution_count": 81
        }
      ]
    },
    {
      "cell_type": "code",
      "source": [
        "cound =np.count_nonzero(rand == -1)\n",
        "print(cound)"
      ],
      "metadata": {
        "colab": {
          "base_uri": "https://localhost:8080/"
        },
        "id": "0Jf3yp_qcb6_",
        "outputId": "b4fc6a9d-82e2-4b09-b433-d9a4f9cd92b7"
      },
      "execution_count": 82,
      "outputs": [
        {
          "output_type": "stream",
          "name": "stdout",
          "text": [
            "11\n"
          ]
        }
      ]
    },
    {
      "cell_type": "code",
      "source": [
        "# 4. Generate a 5×4 array with random values between 0 and 1 (float).\n",
        "# ● Find the row with the maximum sum of values.\n",
        "# ● Normalize each row using the formula:\n",
        "\n",
        "import numpy as np\n",
        "\n",
        "rand = np.random.rand(5, 4)\n",
        "print(rand)"
      ],
      "metadata": {
        "colab": {
          "base_uri": "https://localhost:8080/"
        },
        "id": "HmdgHJcMdMAB",
        "outputId": "a098dcad-37e2-4645-889b-bf43c77e0e3b"
      },
      "execution_count": 83,
      "outputs": [
        {
          "output_type": "stream",
          "name": "stdout",
          "text": [
            "[[0.70587246 0.13573024 0.36025552 0.8935123 ]\n",
            " [0.69789179 0.12539902 0.59324036 0.84188718]\n",
            " [0.56468605 0.73474575 0.14600118 0.82794149]\n",
            " [0.21207295 0.16487026 0.75987733 0.35069875]\n",
            " [0.40498574 0.88502269 0.42538145 0.33935563]]\n"
          ]
        }
      ]
    },
    {
      "cell_type": "code",
      "source": [
        "#  ● Find the row with the maximum sum of values.\n",
        "fnsum=np.sum(rand,axis=1)\n",
        "fnsum\n"
      ],
      "metadata": {
        "colab": {
          "base_uri": "https://localhost:8080/"
        },
        "id": "PhKe-qfKi5lv",
        "outputId": "ca43cc62-496d-4424-eeb8-a1adbe52910a"
      },
      "execution_count": 84,
      "outputs": [
        {
          "output_type": "execute_result",
          "data": {
            "text/plain": [
              "array([2.09537052, 2.25841836, 2.27337446, 1.48751928, 2.05474552])"
            ]
          },
          "metadata": {},
          "execution_count": 84
        }
      ]
    },
    {
      "cell_type": "code",
      "source": [
        "bigrw=np.argmax(fnsum)\n",
        "bigrw"
      ],
      "metadata": {
        "colab": {
          "base_uri": "https://localhost:8080/"
        },
        "id": "plVONlNLfqWE",
        "outputId": "976dd5d2-cc74-4c2b-8da9-cb339d22a9e4"
      },
      "execution_count": 85,
      "outputs": [
        {
          "output_type": "execute_result",
          "data": {
            "text/plain": [
              "np.int64(2)"
            ]
          },
          "metadata": {},
          "execution_count": 85
        }
      ]
    },
    {
      "cell_type": "code",
      "source": [
        "Min=np.min(rand,axis=1,keepdims=True)\n",
        "Max=np.max(rand,axis=1,keepdims=True)\n",
        "normalized = (rand - Min) / (Max - Min)\n",
        "normalized\n"
      ],
      "metadata": {
        "colab": {
          "base_uri": "https://localhost:8080/"
        },
        "id": "rhS6K1i5kYUv",
        "outputId": "8f3b6004-77be-4d93-e3c3-fe09f1fc880b"
      },
      "execution_count": 86,
      "outputs": [
        {
          "output_type": "execute_result",
          "data": {
            "text/plain": [
              "array([[0.75238285, 0.        , 0.29629268, 1.        ],\n",
              "       [0.79902615, 0.        , 0.65296451, 1.        ],\n",
              "       [0.61396117, 0.8633374 , 0.        , 1.        ],\n",
              "       [0.07933131, 0.        , 1.        , 0.31231309],\n",
              "       [0.12027502, 1.        , 0.15765259, 0.        ]])"
            ]
          },
          "metadata": {},
          "execution_count": 86
        }
      ]
    },
    {
      "cell_type": "code",
      "source": [],
      "metadata": {
        "id": "FW5cclpXpUDB"
      },
      "execution_count": 86,
      "outputs": []
    },
    {
      "cell_type": "code",
      "source": [
        "# 5. arr = np.array([1, 3, 5, 3, 7, 9, 1, 5, 5])\n",
        "# ● Find all unique elements\n",
        "# ● Find the duplicates (elements that appear more than once)\n",
        "import numpy as np\n",
        "arr = np.array([1, 3, 5, 3, 7, 9, 1, 5, 5])\n",
        "print(np.unique(arr))"
      ],
      "metadata": {
        "colab": {
          "base_uri": "https://localhost:8080/"
        },
        "id": "9OZbVyMkDL_V",
        "outputId": "e58db5b8-a180-49a0-a1af-d247b667b2f7"
      },
      "execution_count": 87,
      "outputs": [
        {
          "output_type": "stream",
          "name": "stdout",
          "text": [
            "[1 3 5 7 9]\n"
          ]
        }
      ]
    },
    {
      "cell_type": "code",
      "source": [
        "\n",
        "unique_elements,counts=np.unique(arr,return_counts=True)\n",
        "duplicates=unique_counts[counts>1]\n",
        "print(duplicates)"
      ],
      "metadata": {
        "colab": {
          "base_uri": "https://localhost:8080/"
        },
        "id": "KKJe7amHDaU0",
        "outputId": "6103203d-891a-4dab-ba8f-cf807eeb8460"
      },
      "execution_count": 88,
      "outputs": [
        {
          "output_type": "stream",
          "name": "stdout",
          "text": [
            "[1 3 5]\n"
          ]
        }
      ]
    },
    {
      "cell_type": "code",
      "source": [
        "# 6. Create a 6×6 NumPy array with values from 1 to 36.\n",
        "# ● Extract the middle 4×4 submatrix.\n",
        "# ● Then extract all even numbers from this submatrix.\n",
        "\n",
        "import numpy as np\n",
        "arr=np.array(range(1,37)).reshape(6,6)\n",
        "print(arr)\n"
      ],
      "metadata": {
        "colab": {
          "base_uri": "https://localhost:8080/"
        },
        "id": "THsTgZL1D4_1",
        "outputId": "94c83efc-0624-4258-c8b1-7a37bba29ac3"
      },
      "execution_count": 89,
      "outputs": [
        {
          "output_type": "stream",
          "name": "stdout",
          "text": [
            "[[ 1  2  3  4  5  6]\n",
            " [ 7  8  9 10 11 12]\n",
            " [13 14 15 16 17 18]\n",
            " [19 20 21 22 23 24]\n",
            " [25 26 27 28 29 30]\n",
            " [31 32 33 34 35 36]]\n"
          ]
        }
      ]
    },
    {
      "cell_type": "code",
      "source": [
        "submatrix=arr[1:5,1:5]\n",
        "submatrix"
      ],
      "metadata": {
        "colab": {
          "base_uri": "https://localhost:8080/"
        },
        "id": "Yq_VM-9eFIMl",
        "outputId": "e979f0d9-4cb3-46bb-c3fd-a0ec0d53c64e"
      },
      "execution_count": 90,
      "outputs": [
        {
          "output_type": "execute_result",
          "data": {
            "text/plain": [
              "array([[ 8,  9, 10, 11],\n",
              "       [14, 15, 16, 17],\n",
              "       [20, 21, 22, 23],\n",
              "       [26, 27, 28, 29]])"
            ]
          },
          "metadata": {},
          "execution_count": 90
        }
      ]
    },
    {
      "cell_type": "code",
      "source": [
        "even=submatrix[submatrix%2==0]\n",
        "even"
      ],
      "metadata": {
        "colab": {
          "base_uri": "https://localhost:8080/"
        },
        "id": "LfBV0GsKFlfW",
        "outputId": "796428f7-e92c-4e25-a281-c26fe64257aa"
      },
      "execution_count": 91,
      "outputs": [
        {
          "output_type": "execute_result",
          "data": {
            "text/plain": [
              "array([ 8, 10, 14, 16, 20, 22, 26, 28])"
            ]
          },
          "metadata": {},
          "execution_count": 91
        }
      ]
    },
    {
      "cell_type": "code",
      "source": [
        "# 7. Generate an array of shape (3, 4) with values from 0 to 11.\n",
        "# ● Reshape it to (2, 6)\n",
        "# ● Then flatten it into a 1D array\n",
        "# ● Convert the 1D array back to shape (4, 3)\n",
        "\n",
        "import numpy as np\n",
        "arry=np.array(range(0,12)).reshape(3,4)\n",
        "arry"
      ],
      "metadata": {
        "colab": {
          "base_uri": "https://localhost:8080/"
        },
        "id": "f1kwfwunGFXK",
        "outputId": "1e5916d0-eca8-47f6-ed7c-0f82916d6b82"
      },
      "execution_count": 92,
      "outputs": [
        {
          "output_type": "execute_result",
          "data": {
            "text/plain": [
              "array([[ 0,  1,  2,  3],\n",
              "       [ 4,  5,  6,  7],\n",
              "       [ 8,  9, 10, 11]])"
            ]
          },
          "metadata": {},
          "execution_count": 92
        }
      ]
    },
    {
      "cell_type": "code",
      "source": [
        "arry.reshape(2,6)"
      ],
      "metadata": {
        "colab": {
          "base_uri": "https://localhost:8080/"
        },
        "id": "09PEK9rZGhTR",
        "outputId": "86f3975d-10c6-4468-9668-1fef3b54da8f"
      },
      "execution_count": 93,
      "outputs": [
        {
          "output_type": "execute_result",
          "data": {
            "text/plain": [
              "array([[ 0,  1,  2,  3,  4,  5],\n",
              "       [ 6,  7,  8,  9, 10, 11]])"
            ]
          },
          "metadata": {},
          "execution_count": 93
        }
      ]
    },
    {
      "cell_type": "code",
      "source": [
        "x = arry.flatten()\n",
        "x"
      ],
      "metadata": {
        "id": "1WjHBgj_HDDu",
        "colab": {
          "base_uri": "https://localhost:8080/"
        },
        "outputId": "eb9c87d9-b5dd-48d1-9efa-cc6c6c494665"
      },
      "execution_count": 94,
      "outputs": [
        {
          "output_type": "execute_result",
          "data": {
            "text/plain": [
              "array([ 0,  1,  2,  3,  4,  5,  6,  7,  8,  9, 10, 11])"
            ]
          },
          "metadata": {},
          "execution_count": 94
        }
      ]
    },
    {
      "cell_type": "code",
      "source": [
        "x.reshape(4,3)"
      ],
      "metadata": {
        "colab": {
          "base_uri": "https://localhost:8080/"
        },
        "id": "seW9_whFJFFt",
        "outputId": "c1c33c37-a668-4b40-d131-8d5dbd1207fa"
      },
      "execution_count": 95,
      "outputs": [
        {
          "output_type": "execute_result",
          "data": {
            "text/plain": [
              "array([[ 0,  1,  2],\n",
              "       [ 3,  4,  5],\n",
              "       [ 6,  7,  8],\n",
              "       [ 9, 10, 11]])"
            ]
          },
          "metadata": {},
          "execution_count": 95
        }
      ]
    },
    {
      "cell_type": "code",
      "source": [
        "# 8 . Create an array: a = np.array([[1, 2], [3, 4]])\n",
        "# ● Append a new row [5, 6]\n",
        "# ● Then append a new column [7, 8, 9]\n",
        "\n",
        "\n",
        "import numpy as np\n",
        "ary = np.array([[1, 2], [3, 4]])\n",
        "ary\n"
      ],
      "metadata": {
        "colab": {
          "base_uri": "https://localhost:8080/"
        },
        "id": "wu0udCMjJg4R",
        "outputId": "99e9ae8f-6ece-4c2f-ba57-5230c1918c68"
      },
      "execution_count": 96,
      "outputs": [
        {
          "output_type": "execute_result",
          "data": {
            "text/plain": [
              "array([[1, 2],\n",
              "       [3, 4]])"
            ]
          },
          "metadata": {},
          "execution_count": 96
        }
      ]
    },
    {
      "cell_type": "code",
      "source": [
        "new_row=np.array([[5,6]])\n",
        "x=np.append(ary,new_row,axis=0)\n",
        "x\n"
      ],
      "metadata": {
        "colab": {
          "base_uri": "https://localhost:8080/"
        },
        "id": "wTVeBueUJzlD",
        "outputId": "5a70d649-eed2-479d-cf24-2e9a3358faa6"
      },
      "execution_count": 97,
      "outputs": [
        {
          "output_type": "execute_result",
          "data": {
            "text/plain": [
              "array([[1, 2],\n",
              "       [3, 4],\n",
              "       [5, 6]])"
            ]
          },
          "metadata": {},
          "execution_count": 97
        }
      ]
    },
    {
      "cell_type": "code",
      "source": [
        "new_col = np.array([[7],\n",
        "                    [8],\n",
        "                    [9]])\n",
        "y = np.append(x, new_col, axis=1)\n",
        "print(y)"
      ],
      "metadata": {
        "colab": {
          "base_uri": "https://localhost:8080/"
        },
        "id": "aTtyzNebKb95",
        "outputId": "d6938c08-2de9-43b5-fbb1-139ba2752bc8"
      },
      "execution_count": 98,
      "outputs": [
        {
          "output_type": "stream",
          "name": "stdout",
          "text": [
            "[[1 2 7]\n",
            " [3 4 8]\n",
            " [5 6 9]]\n"
          ]
        }
      ]
    },
    {
      "cell_type": "code",
      "source": [
        "# 9.\n",
        "# a = np.array([1, 2, 3])\n",
        "# b = np.array([4, 5, 6])\n",
        "# c = np.array([7, 8, 9])\n",
        "# ● Join them into a single array\n",
        "# ● Reshape the result into a 3×3 matrix\n",
        "# ● Extract the diagonal elements\n",
        "\n",
        "\n",
        "\n",
        "import numpy as np\n",
        "a = np.array([1, 2, 3])\n",
        "b = np.array([4, 5, 6])\n",
        "c = np.array([7, 8, 9])\n",
        "aryy= np.concatenate((a,b,c))\n",
        "aryy\n"
      ],
      "metadata": {
        "colab": {
          "base_uri": "https://localhost:8080/"
        },
        "id": "i4w_HeE9MXmh",
        "outputId": "9597a1d1-3c5b-4eaf-c01d-0d4ab240e4bc"
      },
      "execution_count": 103,
      "outputs": [
        {
          "output_type": "execute_result",
          "data": {
            "text/plain": [
              "array([1, 2, 3, 4, 5, 6, 7, 8, 9])"
            ]
          },
          "metadata": {},
          "execution_count": 103
        }
      ]
    },
    {
      "cell_type": "code",
      "source": [
        "matrix = aryy.reshape(3, 3)\n",
        "print(matrix)"
      ],
      "metadata": {
        "colab": {
          "base_uri": "https://localhost:8080/"
        },
        "id": "0_CmSVbLM-uJ",
        "outputId": "e9aadab6-8ab7-42f2-a072-720b52e28cc3"
      },
      "execution_count": 104,
      "outputs": [
        {
          "output_type": "stream",
          "name": "stdout",
          "text": [
            "[[1 2 3]\n",
            " [4 5 6]\n",
            " [7 8 9]]\n"
          ]
        }
      ]
    },
    {
      "cell_type": "code",
      "source": [
        "diag = np.diagonal(matrix)\n",
        "print(diag)"
      ],
      "metadata": {
        "colab": {
          "base_uri": "https://localhost:8080/"
        },
        "id": "umKFlCbrOE9R",
        "outputId": "8715cbd4-74ce-4d5d-a1c9-fd9b57197ed0"
      },
      "execution_count": 106,
      "outputs": [
        {
          "output_type": "stream",
          "name": "stdout",
          "text": [
            "[1 5 9]\n"
          ]
        }
      ]
    },
    {
      "cell_type": "code",
      "source": [
        "# 10. Create a NumPy array of integers from 1 to 20.\n",
        "# ● Extract all values that are divisible by 3 or 5.\n",
        "# ● Count how many such values exist\n",
        "\n",
        "\n",
        "import numpy as np\n",
        "aray=np.array(range(1,21))\n",
        "aray\n"
      ],
      "metadata": {
        "colab": {
          "base_uri": "https://localhost:8080/"
        },
        "id": "5OEUZRCqQjwx",
        "outputId": "e1c3e44c-1b49-49cf-b66c-2073f8ca952f"
      },
      "execution_count": 111,
      "outputs": [
        {
          "output_type": "execute_result",
          "data": {
            "text/plain": [
              "array([ 1,  2,  3,  4,  5,  6,  7,  8,  9, 10, 11, 12, 13, 14, 15, 16, 17,\n",
              "       18, 19, 20])"
            ]
          },
          "metadata": {},
          "execution_count": 111
        }
      ]
    },
    {
      "cell_type": "code",
      "source": [
        "divs=aray[(aray%3==0)  |  (aray%5==0)]\n",
        "divs"
      ],
      "metadata": {
        "colab": {
          "base_uri": "https://localhost:8080/"
        },
        "id": "ELSb-MdsRCCc",
        "outputId": "f6261d2f-a214-4dbf-82ae-6f98d63c1553"
      },
      "execution_count": 113,
      "outputs": [
        {
          "output_type": "execute_result",
          "data": {
            "text/plain": [
              "array([ 3,  5,  6,  9, 10, 12, 15, 18, 20])"
            ]
          },
          "metadata": {},
          "execution_count": 113
        }
      ]
    },
    {
      "cell_type": "code",
      "source": [
        "count=divs.size\n",
        "count"
      ],
      "metadata": {
        "colab": {
          "base_uri": "https://localhost:8080/"
        },
        "id": "cEnwOz-oRiH_",
        "outputId": "ffa21e5a-5ef1-4416-ecc4-ff44f2767a36"
      },
      "execution_count": 114,
      "outputs": [
        {
          "output_type": "execute_result",
          "data": {
            "text/plain": [
              "9"
            ]
          },
          "metadata": {},
          "execution_count": 114
        }
      ]
    },
    {
      "cell_type": "code",
      "source": [
        "x=len(divs)\n",
        "x"
      ],
      "metadata": {
        "colab": {
          "base_uri": "https://localhost:8080/"
        },
        "id": "But1UheQSk2N",
        "outputId": "b9183272-b1b7-4915-c7ec-4a56d2e60d84"
      },
      "execution_count": 115,
      "outputs": [
        {
          "output_type": "execute_result",
          "data": {
            "text/plain": [
              "9"
            ]
          },
          "metadata": {},
          "execution_count": 115
        }
      ]
    },
    {
      "cell_type": "code",
      "source": [],
      "metadata": {
        "id": "ngeqpbZeSuwp"
      },
      "execution_count": null,
      "outputs": []
    }
  ]
}